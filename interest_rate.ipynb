{
 "cells": [
  {
   "cell_type": "code",
   "execution_count": 2,
   "metadata": {},
   "outputs": [],
   "source": [
    "import pandas as pd\n",
    "import numpy as np\n",
    "import random\n",
    "from matplotlib import pyplot as plt\n",
    "from scipy.integrate import quad\n",
    "import scipy.stats\n",
    "from time import time"
   ]
  },
  {
   "cell_type": "code",
   "execution_count": 3,
   "metadata": {},
   "outputs": [],
   "source": [
    "class InterestRate():\n",
    "    # The most usefull interest rates\n",
    "    def __init__(self):\n",
    "        EONIA = -0.467\n",
    "        ESTER = -0.467\n",
    "        EURIBOR = {\"1W\":-0.530, \"1M\":-0.515, \"3M\":-0.481, \"6M\":-0.443, \"1Y\":-0.373}\n",
    "        LIBOR = {\"1W\":-0.56371, \"1M\":-0.54414, \"3M\":-0.51657, \"6M\":-0.46471, \"1Y\":-0.36643}"
   ]
  },
  {
   "cell_type": "code",
   "execution_count": 91,
   "metadata": {},
   "outputs": [],
   "source": [
    "class ZeroCoupon(InterestRate):\n",
    "    #zero coupon price and rate\n",
    "    def __init__(self, time_spot, maturity):\n",
    "        self.t = time_spot\n",
    "        self.T = maturity\n",
    "    \n",
    "    def discountfactor(self, zc_rate,t=None, T=None):\n",
    "        # Price today of 1euro owned at a future date T\n",
    "        if t==None:\n",
    "            t=self.t\n",
    "        if T== None:\n",
    "            T=self.T\n",
    "        return pow(1+zc_rate/100,t-T)\n",
    "    \n",
    "    def zcrate(self, discount_factor, t=None, T=None):\n",
    "        #Yiel of an investment until T without coupons\n",
    "        if t==None:\n",
    "            t=self.t\n",
    "        if T== None:\n",
    "            T=self.T\n",
    "        return pow(discount_factor,1/(t-T))-1\n",
    "    \n",
    "    def forwardrate(self, time_zero, t, discount_factor_T0, discount_factor_T1, maturity):\n",
    "        #Rate applicable at a future date\n",
    "        return pow(self.zcrate(discount_factor_T1, t, maturity)/self.zcrate(discount_factor_T0, time_zero, t), 1/(maturity-time_zero))-1"
   ]
  },
  {
   "cell_type": "code",
   "execution_count": 301,
   "metadata": {},
   "outputs": [
    {
     "name": "stdout",
     "output_type": "stream",
     "text": [
      "1.0\n",
      "0.0\n",
      "0.41421356237309515\n"
     ]
    }
   ],
   "source": [
    "#Exemple\n",
    "zc = ZeroCoupon(0,1)\n",
    "print(zc.discountfactor(5,0,1)*(1+5/100))\n",
    "print(zc.zcrate(1,0,1))\n",
    "print(zc.forwardrate(0,1,-0.5,-0.2,2))"
   ]
  },
  {
   "cell_type": "code",
   "execution_count": 190,
   "metadata": {},
   "outputs": [],
   "source": [
    "class Bond(ZeroCoupon):\n",
    "    #Simple bond\n",
    "    \n",
    "    def __init__(self, time_spot, nominal, maturity, rate, freq_payement, market_price):\n",
    "        self.t = time_spot\n",
    "        self.N = nominal\n",
    "        self.T = maturity\n",
    "        self.r = rate\n",
    "        self.freq_payement = freq_payement\n",
    "        self.market_price = market_price\n",
    "    \n",
    "    def datecashflow(self,date_begin, date_end, freq_payement):\n",
    "        #return number of day of the bond. to complet for having the exat number of days, to correct if the end is not a buisness day etc\n",
    "        payement_date = []\n",
    "        if freq_payement == 1:\n",
    "            begin = [int(x) for x in date_begin.split(\"/\")]\n",
    "            end = [int(x) for x in date_end.split(\"/\")]\n",
    "            p=dt.date(begin[2],begin[1],begin[0])\n",
    "            start_y = begin[2]\n",
    "            while p < dt.date(end[2],end[1],end[0]):\n",
    "                payement_date.append(\"/\".join([str(p.day), str(p.month), str(p.year)]))\n",
    "                start_y+=1\n",
    "                p = dt.date(start_y,begin[1],begin[0])\n",
    "\n",
    "        else :\n",
    "            begin = [int(x) for x in date_begin.split(\"/\")]\n",
    "            end = [int(x) for x in date_end.split(\"/\")]\n",
    "            p=dt.date(begin[2],begin[1],begin[0])\n",
    "            start_y = begin[2]\n",
    "            start_m = begin[1]\n",
    "            while p < dt.date(end[2],end[1],end[0]):\n",
    "                payement_date.append(\"/\".join([str(p.day), str(p.month), str(p.year)]))\n",
    "                if start_m + int(12/freq_payement) <= 12:\n",
    "                    start_m += int(12/freq_payement)\n",
    "                    p = dt.date(start_y,start_m,begin[0])\n",
    "                else:\n",
    "                    start_m = int(12/freq_payement)-(12-start_m)\n",
    "                    start_y += 1\n",
    "                    print(start_m)\n",
    "                    p = dt.date(start_y,start_m,begin[0])\n",
    "\n",
    "        return payement_date\n",
    "    \n",
    "    def bondvalue(self, zc_rates):\n",
    "        #takes the actuarial rates and returns a tuple withe the bond value in first position and a list of cashflow discounted in second position.\n",
    "        value = 0\n",
    "        cashflow_discounted = []\n",
    "        for i in range(self.t, self.T, self.freq_payement):\n",
    "            cashflow_discounted.append((self.N*self.r/100)*self.discountfactor(zc_rates[i], self.t, self.t+i))\n",
    "            value += (self.N*self.r/100)*self.discountfactor(zc_rates[i], self.t, self.t+i)\n",
    "        value += self.discountfactor(zc_rates[-1], self.t, self.T)*self.N\n",
    "        cashflow_discounted.append(self.discountfactor(zc_rates[-1], self.t, self.T)*self.N)\n",
    "        \n",
    "        return (value, cashflow_discounted)\n",
    "    \n",
    "    def yieldtomaturity(self):\n",
    "        #return the yield to maturity of the bond ()\n",
    "        YTM = 0\n",
    "        x=0\n",
    "        y=100\n",
    "        for i in range(100):\n",
    "            YTM = 0.5*(x+y)\n",
    "            if self.market_price>self.bondvalue([YTM]*(self.T - self.t)*self.freq_payement)[0]:\n",
    "                y=YTM\n",
    "            else:\n",
    "                x=YTM\n",
    "        z= (x+y)/2\n",
    "        return z"
   ]
  },
  {
   "cell_type": "code",
   "execution_count": 191,
   "metadata": {},
   "outputs": [
    {
     "data": {
      "text/plain": [
       "(100.71229157296257,\n",
       " [4.0,\n",
       "  3.846153846153846,\n",
       "  3.6982248520710055,\n",
       "  3.555985434683659,\n",
       "  3.419216764118903,\n",
       "  82.19271067593516])"
      ]
     },
     "execution_count": 191,
     "metadata": {},
     "output_type": "execute_result"
    }
   ],
   "source": [
    "#Exemple\n",
    "Obligation = Bond(0,100,5,4,1,100.71229157296257)\n",
    "Obligation.bondvalue([4]*10)"
   ]
  },
  {
   "cell_type": "code",
   "execution_count": 298,
   "metadata": {},
   "outputs": [],
   "source": [
    "class YieldCurve(Bond):\n",
    "    #plot yield curve by bootstrapping\n",
    "    \n",
    "    def __init__(self, list_of_bonds, yields):\n",
    "        self.list_of_bonds = list_of_bonds\n",
    "        self.yields = yields\n",
    "    \n",
    "    def get_yields(self):\n",
    "        iterator = []\n",
    "        for m in self.list_of_bonds:\n",
    "            iterator.append(m[\"maturity\"])\n",
    "        for T in iterator: \n",
    "            if T in self.yields.keys():\n",
    "                next\n",
    "            else:\n",
    "                i=0\n",
    "                while self.list_of_bonds[i][\"maturity\"]!=T:\n",
    "                    i+=1\n",
    "                bond = self.list_of_bonds[i]\n",
    "                mty = [i for i in range(1,round(float(T[:-1])+1))]\n",
    "                residual_month = float(T[:-1]) - round(float(T[:-1]))\n",
    "                y = bond[\"price\"]\n",
    "                for m in mty[:-1]:\n",
    "                    y = y - (bond[\"coupon\"]/pow((1+self.yields[str(m)+\"Y\"]),m))\n",
    "                y =pow((100+bond[\"coupon\"])/y, 1/float(T[:-1])) - 1\n",
    "                self.yields[T] = y      \n",
    "        plt.plot(list(self.yields.values()))\n",
    "        return self.yields"
   ]
  },
  {
   "cell_type": "code",
   "execution_count": 300,
   "metadata": {},
   "outputs": [
    {
     "name": "stdout",
     "output_type": "stream",
     "text": [
      "{'1W': -0.56371, '1M': -0.54414, '3M': -0.51657, '6M': -0.46471, '1Y': -0.36643, '1.2Y': 0.010435940952064682, '1.9Y': 0.07415079810003422, '2Y': 0.07779903922058451, '2.6Y': 0.07056238754333655, '3Y': 0.06535854045151979}\n"
     ]
    },
    {
     "data": {
      "image/png": "[encoded data removed]",
      "text/plain": [
       "<Figure size 432x288 with 1 Axes>"
      ]
     },
     "metadata": {
      "needs_background": "light"
     },
     "output_type": "display_data"
    }
   ],
   "source": [
    "#Exemple\n",
    "bonds = [{\"maturity\":\"1.2Y\", \"coupon\":5, \"price\":103.7}, {\"maturity\":\"1.9Y\", \"coupon\":6, \"price\":102},\n",
    "        {\"maturity\":\"2Y\", \"coupon\":5.5, \"price\":99.5}, {\"maturity\":\"2.6Y\", \"coupon\":4.5, \"price\":98.5},\n",
    "        {\"maturity\":\"3Y\", \"coupon\":3, \"price\":92.5}]\n",
    "yields = {\"1W\":-0.56371, \"1M\":-0.54414, \"3M\":-0.51657, \"6M\":-0.46471, \"1Y\":-0.36643}\n",
    "\n",
    "curve = YieldCurve(bonds, yields)\n",
    "yieldsss = curve.get_yields()\n",
    "print(yieldsss)"
   ]
  },
  {
   "cell_type": "code",
   "execution_count": 507,
   "metadata": {},
   "outputs": [],
   "source": [
    "class Swap():\n",
    "    \n",
    "    def __init__(self, begin_period, end_period, freq_pay_fix, freq_pay_float, fixing, discount,rate_forward):\n",
    "        self.begin_period = begin_period\n",
    "        self.end_period = end_period\n",
    "        self.fix = fixing\n",
    "        self.dis = discount\n",
    "        self.rate_forward = rate_forward #dict avec cle : Ti, valeur : taux forward en date de payement Ti vu en Ti-1\n",
    "        self.freq_pay_fix= freq_pay_fix\n",
    "        self.freq_pay_var = freq_pay_float\n",
    "        self.float_payement_date = self.datecashflow(begin_period, end_period, freq_pay_float)\n",
    "        self.fix_payement_date = self.datecashflow(begin_period,end_period,freq_pay_fix)\n",
    "    \n",
    "\n",
    "        \n",
    "    def datecashflow(self, date_begin, date_end, freq_payement):\n",
    "        #return number of day of the swap (whitout considering 30/360 ...). to complet for having the exat number of days, to correct if the end is not a buisness day etc\n",
    "        payement_date = []\n",
    "        if freq_payement == 1:\n",
    "            begin = [int(x) for x in date_begin.split(\"/\")]\n",
    "            end = [int(x) for x in date_end.split(\"/\")]\n",
    "            p=dt.date(begin[2],begin[1],begin[0])\n",
    "            start_y = begin[2]\n",
    "            while p <= dt.date(end[2],end[1],end[0]):\n",
    "                payement_date.append(\"/\".join([str(p.day), str(p.month), str(p.year)]))\n",
    "                start_y+=1\n",
    "                p = dt.date(start_y,begin[1],begin[0])\n",
    "\n",
    "        else :\n",
    "            begin = [int(x) for x in date_begin.split(\"/\")]\n",
    "            end = [int(x) for x in date_end.split(\"/\")]\n",
    "            p=dt.date(begin[2],begin[1],begin[0])\n",
    "            start_y = begin[2]\n",
    "            start_m = begin[1]\n",
    "            while p <= dt.date(end[2],end[1],end[0]):\n",
    "                payement_date.append(\"/\".join([str(p.day), str(p.month), str(p.year)]))\n",
    "                if start_m + int(12/freq_payement) <= 12:\n",
    "                    start_m += int(12/freq_payement)\n",
    "                    p = dt.date(start_y,start_m,begin[0])\n",
    "                else:\n",
    "                    start_m = int(12/freq_payement)-(12-start_m)\n",
    "                    start_y += 1\n",
    "                    p = dt.date(start_y,start_m,begin[0])\n",
    "\n",
    "        return payement_date\n",
    "    \n",
    "    def nbdays(self,date_begin, date_end):\n",
    "        date_begin = [int(x) for x in date_begin.split(\"/\")]\n",
    "        date_end = [int(x) for x in date_end.split(\"/\")]\n",
    "\n",
    "        return (dt.date(date_end[2],date_end[1], date_end[0]) - dt.date(date_begin[2], date_begin[1], date_begin[0])).days\n",
    "\n",
    "    def swaprate(self):\n",
    "        a = 0\n",
    "        b = 0\n",
    "        for k in range(len(self.float_payement_date)-1):\n",
    "            a += self.rate_forward[k]*self.nbdays(self.float_payement_date[k], self.float_payement_date[k+1])*self.dis[k]\n",
    "        for i in range(len(self.fix_payement_date)-1):\n",
    "            b += self.nbdays(self.fix_payement_date[i], self.fix_payement_date[i+1])*self.dis[i]\n",
    "        \n",
    "        return a/b\n",
    "            \n",
    "            \n",
    "    "
   ]
  },
  {
   "cell_type": "code",
   "execution_count": 508,
   "metadata": {},
   "outputs": [
    {
     "data": {
      "text/plain": [
       "0.2521480425816344"
      ]
     },
     "execution_count": 508,
     "metadata": {},
     "output_type": "execute_result"
    }
   ],
   "source": [
    "#Exemple\n",
    "discount = [0.999665144, 0.999414583, 0.999146461, 0.998848562]\n",
    "TxFwd = [0.227,0.2394,0.2598,0.2824]\n",
    "monswap = Swap('27/11/2013','27/11/2014', 1, 4, 0,discount,TxFwd)\n",
    "monswap.swaprate()"
   ]
  },
  {
   "cell_type": "code",
   "execution_count": null,
   "metadata": {},
   "outputs": [],
   "source": []
  },
  {
   "cell_type": "code",
   "execution_count": null,
   "metadata": {},
   "outputs": [],
   "source": []
  },
  {
   "cell_type": "code",
   "execution_count": null,
   "metadata": {},
   "outputs": [],
   "source": []
  }
 ],
 "metadata": {
  "kernelspec": {
   "display_name": "Python 3",
   "language": "python",
   "name": "python3"
  },
  "language_info": {
   "codemirror_mode": {
    "name": "ipython",
    "version": 3
   },
   "file_extension": ".py",
   "mimetype": "text/x-python",
   "name": "python",
   "nbconvert_exporter": "python",
   "pygments_lexer": "ipython3",
   "version": "3.7.6"
  }
 },
 "nbformat": 4,
 "nbformat_minor": 4
}
